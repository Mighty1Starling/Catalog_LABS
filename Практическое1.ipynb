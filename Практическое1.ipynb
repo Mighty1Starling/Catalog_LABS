{
 "cells": [
  {
   "cell_type": "markdown",
   "id": "5fc2721a-fc71-477a-999a-3635c6fd692e",
   "metadata": {},
   "source": [
    "Практическое задание №1"
   ]
  },
  {
   "cell_type": "markdown",
   "id": "9918cdea-1cf1-4042-af85-9dad0b5fce1a",
   "metadata": {},
   "source": [
    "Номер 1"
   ]
  },
  {
   "cell_type": "code",
   "execution_count": 1,
   "id": "78cddfe4-c95f-4d3d-a321-21a8981f7ace",
   "metadata": {},
   "outputs": [
    {
     "name": "stdin",
     "output_type": "stream",
     "text": [
      " 14\n"
     ]
    },
    {
     "name": "stdout",
     "output_type": "stream",
     "text": [
      "6\n"
     ]
    }
   ],
   "source": [
    "n = int(input())\n",
    "steps = 0\n",
    "\n",
    "while n > 0:\n",
    "    if n % 2 == 0:\n",
    "        n = n // 2\n",
    "    else:\n",
    "        n -= 1\n",
    "    steps += 1\n",
    "\n",
    "print(steps)"
   ]
  },
  {
   "cell_type": "markdown",
   "id": "d9a87ce5-54b8-4659-bc20-3e90a2776aad",
   "metadata": {},
   "source": [
    "Номер 2"
   ]
  },
  {
   "cell_type": "markdown",
   "id": "2562915c-d4ce-4b2c-b35d-773808a9c4bb",
   "metadata": {},
   "source": [
    "-"
   ]
  },
  {
   "cell_type": "markdown",
   "id": "59ff8ab4-646b-4ddc-868f-c346ea3c6216",
   "metadata": {},
   "source": [
    "Номер 3"
   ]
  },
  {
   "cell_type": "code",
   "execution_count": 9,
   "id": "bd089c0e-6963-4619-87f9-21ba3586a52a",
   "metadata": {},
   "outputs": [
    {
     "name": "stdin",
     "output_type": "stream",
     "text": [
      " 3\n"
     ]
    },
    {
     "name": "stdout",
     "output_type": "stream",
     "text": [
      "45\n"
     ]
    }
   ],
   "source": [
    "n = int(input())\n",
    "\n",
    "dp = [[[0]*5 for _ in range(2)] for __ in range(n+1)]\n",
    "\n",
    "for i in range(1, 10):\n",
    "    if i % 2 == 0:\n",
    "        dp[1][0][i%5] += 1\n",
    "    else:\n",
    "        dp[1][1][i%5] += 1 \n",
    "\n",
    "for pos in range(2, n+1):\n",
    "    for parity in [0, 1]:\n",
    "        for mod in range(5):\n",
    "            count = dp[pos-1][1-parity][mod]\n",
    "            if count == 0:\n",
    "                continue\n",
    "            for d in range(0 if pos>1 else 1, 10):\n",
    "                if (d%2) != parity:\n",
    "                    new_mod = (mod + d) % 5\n",
    "                    dp[pos][d%2][new_mod] += count\n",
    "\n",
    "result = dp[n][0][0] + dp[n][1][0]\n",
    "print(result)"
   ]
  },
  {
   "cell_type": "markdown",
   "id": "ebc1df50-2855-4852-b0f5-e218fbb238e8",
   "metadata": {},
   "source": [
    "Номер 4"
   ]
  },
  {
   "cell_type": "code",
   "execution_count": 1,
   "id": "97ea604b-5185-4952-afd4-34d2116017bd",
   "metadata": {},
   "outputs": [
    {
     "name": "stdin",
     "output_type": "stream",
     "text": [
      " 6 3\n",
      " 2 5 7 11 15 20\n"
     ]
    },
    {
     "name": "stdout",
     "output_type": "stream",
     "text": [
      "9\n"
     ]
    }
   ],
   "source": [
    "def can_place_cows(stalls, k, min_dist):\n",
    "    cows_placed = 1\n",
    "    last_position = stalls[0]\n",
    "    \n",
    "    for stall in stalls[1:]:\n",
    "        if stall - last_position >= min_dist:\n",
    "            cows_placed += 1\n",
    "            last_position = stall\n",
    "            if cows_placed == k:\n",
    "                return True\n",
    "    return False\n",
    "\n",
    "def max_min_distance(stalls, k):\n",
    "    left = 1\n",
    "    right = stalls[-1] - stalls[0]\n",
    "    answer = 0\n",
    "    \n",
    "    while left <= right:\n",
    "        mid = (left + right) // 2\n",
    "        if can_place_cows(stalls, k, mid):\n",
    "            answer = mid\n",
    "            left = mid + 1\n",
    "        else:\n",
    "            right = mid - 1\n",
    "    return answer\n",
    "\n",
    "N, K = map(int, input().split())\n",
    "stalls = list(map(int, input().split()))\n",
    "print(max_min_distance(stalls, K))"
   ]
  },
  {
   "cell_type": "markdown",
   "id": "863a1683-87f7-4aaf-98b5-5ff1456324e3",
   "metadata": {},
   "source": [
    "Задание 5"
   ]
  },
  {
   "cell_type": "code",
   "execution_count": 2,
   "id": "e1e1705c-cce8-42d7-a928-b24ab1519720",
   "metadata": {},
   "outputs": [
    {
     "name": "stdin",
     "output_type": "stream",
     "text": [
      " 100 3 5\n"
     ]
    },
    {
     "name": "stdout",
     "output_type": "stream",
     "text": [
      "189\n"
     ]
    }
   ],
   "source": [
    "def min_copy_time(N, x, y):\n",
    "    if N == 1:\n",
    "        return min(x, y)\n",
    "    x_fast, y_slow = min(x, y), max(x, y)\n",
    "    left = 0\n",
    "    right = N * x_fast\n",
    "    answer = 0\n",
    "    while left <= right:\n",
    "        mid = (left + right) // 2\n",
    "        copies = (mid // x_fast) + (mid // y_slow)\n",
    "        \n",
    "        if copies >= N - 1:\n",
    "            answer = mid\n",
    "            right = mid - 1\n",
    "        else:\n",
    "            left = mid + 1 \n",
    "    return answer + min(x, y)\n",
    "\n",
    "N, x, y = map(int, input().split())\n",
    "print(min_copy_time(N, x, y))"
   ]
  },
  {
   "cell_type": "code",
   "execution_count": null,
   "id": "aa21fcec-1f4b-4073-90d1-b7989ccc35c0",
   "metadata": {},
   "outputs": [],
   "source": []
  }
 ],
 "metadata": {
  "kernelspec": {
   "display_name": "Python 3 (ipykernel)",
   "language": "python",
   "name": "python3"
  },
  "language_info": {
   "codemirror_mode": {
    "name": "ipython",
    "version": 3
   },
   "file_extension": ".py",
   "mimetype": "text/x-python",
   "name": "python",
   "nbconvert_exporter": "python",
   "pygments_lexer": "ipython3",
   "version": "3.13.3"
  }
 },
 "nbformat": 4,
 "nbformat_minor": 5
}
